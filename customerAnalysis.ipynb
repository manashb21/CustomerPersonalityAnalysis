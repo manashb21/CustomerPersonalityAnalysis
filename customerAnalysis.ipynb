{
 "cells": [
  {
   "cell_type": "code",
   "execution_count": 1,
   "id": "1ded12b2",
   "metadata": {},
   "outputs": [],
   "source": [
    "# !pip install pyspark==3.2.4"
   ]
  },
  {
   "cell_type": "markdown",
   "id": "921f7ece",
   "metadata": {},
   "source": [
    "Make sure to install the same version of pyspark as your Apache spark installation."
   ]
  },
  {
   "cell_type": "code",
   "execution_count": 186,
   "id": "925e9cbb",
   "metadata": {},
   "outputs": [
    {
     "name": "stdout",
     "output_type": "stream",
     "text": [
      "PySpark version: 3.2.4\n"
     ]
    }
   ],
   "source": [
    "print(f\"PySpark version: {pyspark.__version__}\")"
   ]
  },
  {
   "cell_type": "code",
   "execution_count": 185,
   "id": "403dde33",
   "metadata": {},
   "outputs": [],
   "source": [
    "import pyspark\n",
    "import matplotlib.pyplot as plt\n",
    "import seaborn as sns\n",
    "\n",
    "#importing the packages\n",
    "from pyspark import SparkContext\n",
    "from pyspark.sql import SparkSession\n",
    "from pyspark.sql.types import *\n",
    "from pyspark.sql.functions import *\n",
    "from pyspark.ml.stat import Correlation #for correlation matrix\n",
    "from pyspark.ml.linalg import Vector\n",
    "from pyspark.ml.feature import StandardScaler, VectorAssembler, StringIndexer"
   ]
  },
  {
   "cell_type": "code",
   "execution_count": 3,
   "id": "b88b9ec9",
   "metadata": {},
   "outputs": [],
   "source": [
    "from pyspark.ml.clustering import KMeans\n",
    "from pyspark.ml.evaluation import ClusteringEvaluator"
   ]
  },
  {
   "cell_type": "markdown",
   "id": "39fd98ff",
   "metadata": {},
   "source": [
    "**SparkContext** is the entry point to interact with Apache Spark. \n",
    "- Represents the connection to a spark Cluster\n",
    "- It is used to create RDDs. (Resilient Distributed Datasets)\n",
    "\n",
    "1. **master** parameter defines in which mode Spark should run, (in this case **local[2]**)\n",
    "- **local** means, everything will be done locally in the system. \n",
    "- **2** means, it will have 2 worker threads so that tasks can be done parallely in 2 threads.\n",
    "\n",
    "***However, it's important to note that the usage of SparkContext has been somewhat deprecated in favor of using SparkSession in more recent versions of PySpark. A SparkSession provides a higher-level API that encapsulates the functionality of both SparkContext and SQLContext, making it easier to work with Spark's different features.***"
   ]
  },
  {
   "cell_type": "code",
   "execution_count": 187,
   "id": "31425691",
   "metadata": {},
   "outputs": [],
   "source": [
    "# sc = SparkContext(master='local[2]')\n",
    "# #spark UI\n",
    "# sc"
   ]
  },
  {
   "cell_type": "code",
   "execution_count": 188,
   "id": "085d8279",
   "metadata": {},
   "outputs": [],
   "source": [
    "spark = SparkSession.builder.appName(\"CustomerAnalysisSpark\").getOrCreate()"
   ]
  },
  {
   "cell_type": "code",
   "execution_count": 189,
   "id": "26acbe31",
   "metadata": {},
   "outputs": [
    {
     "data": {
      "text/html": [
       "\n",
       "            <div>\n",
       "                <p><b>SparkSession - in-memory</b></p>\n",
       "                \n",
       "        <div>\n",
       "            <p><b>SparkContext</b></p>\n",
       "\n",
       "            <p><a href=\"http://192.168.56.1:4040\">Spark UI</a></p>\n",
       "\n",
       "            <dl>\n",
       "              <dt>Version</dt>\n",
       "                <dd><code>v3.2.4</code></dd>\n",
       "              <dt>Master</dt>\n",
       "                <dd><code>local[2]</code></dd>\n",
       "              <dt>AppName</dt>\n",
       "                <dd><code>pyspark-shell</code></dd>\n",
       "            </dl>\n",
       "        </div>\n",
       "        \n",
       "            </div>\n",
       "        "
      ],
      "text/plain": [
       "<pyspark.sql.session.SparkSession at 0x141ea4721f0>"
      ]
     },
     "execution_count": 189,
     "metadata": {},
     "output_type": "execute_result"
    }
   ],
   "source": [
    "spark"
   ]
  },
  {
   "cell_type": "markdown",
   "id": "31231123",
   "metadata": {},
   "source": [
    "#### Workflow\n",
    "- Data Prep\n",
    "- Feature Engineering\n",
    "- Model Building\n",
    "- Evaluate"
   ]
  },
  {
   "cell_type": "code",
   "execution_count": 6,
   "id": "9c6e4bd1",
   "metadata": {},
   "outputs": [],
   "source": [
    "#loading our dataset\n",
    "df = spark.read.csv(\"marketing_campaign1.csv\", header = True, inferSchema = True)"
   ]
  },
  {
   "cell_type": "code",
   "execution_count": 7,
   "id": "d8890a0c",
   "metadata": {},
   "outputs": [
    {
     "name": "stdout",
     "output_type": "stream",
     "text": [
      "+---+----+----------+----------+--------------+-------+-------+--------+-----------+-------+--------+---------+---------------+---------------+----------------+------------+-----------------+---------------+-------------------+-----------------+-----------------+------------+------------+------------+------------+------------+--------+-------------+---------+--------+\n",
      "|_c0|  ID|Year_Birth| Education|Marital_Status| Income|Kidhome|Teenhome|Dt_Customer|Recency|MntWines|MntFruits|MntMeatProducts|MntFishProducts|MntSweetProducts|MntGoldProds|NumDealsPurchases|NumWebPurchases|NumCatalogPurchases|NumStorePurchases|NumWebVisitsMonth|AcceptedCmp3|AcceptedCmp4|AcceptedCmp5|AcceptedCmp1|AcceptedCmp2|Complain|Z_CostContact|Z_Revenue|Response|\n",
      "+---+----+----------+----------+--------------+-------+-------+--------+-----------+-------+--------+---------+---------------+---------------+----------------+------------+-----------------+---------------+-------------------+-----------------+-----------------+------------+------------+------------+------------+------------+--------+-------------+---------+--------+\n",
      "|  0|5524|      1957|Graduation|        Single|58138.0|      0|       0| 04-09-2012|     58|     635|       88|            546|            172|              88|          88|                3|              8|                 10|                4|                7|           0|           0|           0|           0|           0|       0|            3|       11|       1|\n",
      "+---+----+----------+----------+--------------+-------+-------+--------+-----------+-------+--------+---------+---------------+---------------+----------------+------------+-----------------+---------------+-------------------+-----------------+-----------------+------------+------------+------------+------------+------------+--------+-------------+---------+--------+\n",
      "only showing top 1 row\n",
      "\n"
     ]
    }
   ],
   "source": [
    "#preview dataset\n",
    "df.show(1)"
   ]
  },
  {
   "cell_type": "code",
   "execution_count": 8,
   "id": "7dfb0dbd",
   "metadata": {},
   "outputs": [
    {
     "name": "stdout",
     "output_type": "stream",
     "text": [
      "['_c0', 'ID', 'Year_Birth', 'Education', 'Marital_Status', 'Income', 'Kidhome', 'Teenhome', 'Dt_Customer', 'Recency', 'MntWines', 'MntFruits', 'MntMeatProducts', 'MntFishProducts', 'MntSweetProducts', 'MntGoldProds', 'NumDealsPurchases', 'NumWebPurchases', 'NumCatalogPurchases', 'NumStorePurchases', 'NumWebVisitsMonth', 'AcceptedCmp3', 'AcceptedCmp4', 'AcceptedCmp5', 'AcceptedCmp1', 'AcceptedCmp2', 'Complain', 'Z_CostContact', 'Z_Revenue', 'Response']\n",
      "\n",
      "Total Columns:  30\n"
     ]
    }
   ],
   "source": [
    "#check for columns\n",
    "print(df.columns)\n",
    "print(\"\\nTotal Columns: \",len(df.columns))"
   ]
  },
  {
   "cell_type": "code",
   "execution_count": 9,
   "id": "c8467d5f",
   "metadata": {},
   "outputs": [
    {
     "data": {
      "text/plain": [
       "2240"
      ]
     },
     "execution_count": 9,
     "metadata": {},
     "output_type": "execute_result"
    }
   ],
   "source": [
    "df.count()"
   ]
  },
  {
   "cell_type": "markdown",
   "id": "556a4af4",
   "metadata": {},
   "source": [
    "#### Initially, the dataset has 2240 rows and 30 columns."
   ]
  },
  {
   "cell_type": "code",
   "execution_count": 10,
   "id": "a3d3adec",
   "metadata": {},
   "outputs": [
    {
     "name": "stdout",
     "output_type": "stream",
     "text": [
      "root\n",
      " |-- _c0: integer (nullable = true)\n",
      " |-- ID: integer (nullable = true)\n",
      " |-- Year_Birth: integer (nullable = true)\n",
      " |-- Education: string (nullable = true)\n",
      " |-- Marital_Status: string (nullable = true)\n",
      " |-- Income: double (nullable = true)\n",
      " |-- Kidhome: integer (nullable = true)\n",
      " |-- Teenhome: integer (nullable = true)\n",
      " |-- Dt_Customer: string (nullable = true)\n",
      " |-- Recency: integer (nullable = true)\n",
      " |-- MntWines: integer (nullable = true)\n",
      " |-- MntFruits: integer (nullable = true)\n",
      " |-- MntMeatProducts: integer (nullable = true)\n",
      " |-- MntFishProducts: integer (nullable = true)\n",
      " |-- MntSweetProducts: integer (nullable = true)\n",
      " |-- MntGoldProds: integer (nullable = true)\n",
      " |-- NumDealsPurchases: integer (nullable = true)\n",
      " |-- NumWebPurchases: integer (nullable = true)\n",
      " |-- NumCatalogPurchases: integer (nullable = true)\n",
      " |-- NumStorePurchases: integer (nullable = true)\n",
      " |-- NumWebVisitsMonth: integer (nullable = true)\n",
      " |-- AcceptedCmp3: integer (nullable = true)\n",
      " |-- AcceptedCmp4: integer (nullable = true)\n",
      " |-- AcceptedCmp5: integer (nullable = true)\n",
      " |-- AcceptedCmp1: integer (nullable = true)\n",
      " |-- AcceptedCmp2: integer (nullable = true)\n",
      " |-- Complain: integer (nullable = true)\n",
      " |-- Z_CostContact: integer (nullable = true)\n",
      " |-- Z_Revenue: integer (nullable = true)\n",
      " |-- Response: integer (nullable = true)\n",
      "\n"
     ]
    }
   ],
   "source": [
    "df.printSchema()"
   ]
  },
  {
   "cell_type": "code",
   "execution_count": 11,
   "id": "6671b835",
   "metadata": {},
   "outputs": [
    {
     "name": "stdout",
     "output_type": "stream",
     "text": [
      "+---+\n",
      "|_c0|\n",
      "+---+\n",
      "|  0|\n",
      "|  1|\n",
      "|  2|\n",
      "|  3|\n",
      "|  4|\n",
      "+---+\n",
      "only showing top 5 rows\n",
      "\n"
     ]
    }
   ],
   "source": [
    "df.select('_c0').show(5)"
   ]
  },
  {
   "cell_type": "markdown",
   "id": "ca30dc76",
   "metadata": {},
   "source": [
    "Dropping the c0 feature as it is just the index."
   ]
  },
  {
   "cell_type": "code",
   "execution_count": 12,
   "id": "25a8e121",
   "metadata": {},
   "outputs": [
    {
     "data": {
      "text/plain": [
       "['ID',\n",
       " 'Year_Birth',\n",
       " 'Education',\n",
       " 'Marital_Status',\n",
       " 'Income',\n",
       " 'Kidhome',\n",
       " 'Teenhome',\n",
       " 'Dt_Customer',\n",
       " 'Recency',\n",
       " 'MntWines',\n",
       " 'MntFruits',\n",
       " 'MntMeatProducts',\n",
       " 'MntFishProducts',\n",
       " 'MntSweetProducts',\n",
       " 'MntGoldProds',\n",
       " 'NumDealsPurchases',\n",
       " 'NumWebPurchases',\n",
       " 'NumCatalogPurchases',\n",
       " 'NumStorePurchases',\n",
       " 'NumWebVisitsMonth',\n",
       " 'AcceptedCmp3',\n",
       " 'AcceptedCmp4',\n",
       " 'AcceptedCmp5',\n",
       " 'AcceptedCmp1',\n",
       " 'AcceptedCmp2',\n",
       " 'Complain',\n",
       " 'Z_CostContact',\n",
       " 'Z_Revenue',\n",
       " 'Response']"
      ]
     },
     "execution_count": 12,
     "metadata": {},
     "output_type": "execute_result"
    }
   ],
   "source": [
    "df = df.drop(\"_c0\")\n",
    "df.columns"
   ]
  },
  {
   "cell_type": "code",
   "execution_count": 13,
   "id": "91443ad2",
   "metadata": {},
   "outputs": [
    {
     "name": "stdout",
     "output_type": "stream",
     "text": [
      "+----------+\n",
      "|Year_Birth|\n",
      "+----------+\n",
      "|      1957|\n",
      "|      1954|\n",
      "|      1965|\n",
      "|      1984|\n",
      "|      1981|\n",
      "+----------+\n",
      "only showing top 5 rows\n",
      "\n"
     ]
    }
   ],
   "source": [
    "df.select('Year_Birth').show(5)"
   ]
  },
  {
   "cell_type": "markdown",
   "id": "709e47ff",
   "metadata": {},
   "source": [
    "### Dt_Customer feature is a date feature but has been assigned as a string. Changing it back to date feature."
   ]
  },
  {
   "cell_type": "code",
   "execution_count": 14,
   "id": "be45dada",
   "metadata": {},
   "outputs": [],
   "source": [
    "# Convert the Dt_customer column to a date type\n",
    "df = df.withColumn(\"DateJoined\", to_date(col(\"Dt_Customer\"), \"dd-MM-yyyy\"))"
   ]
  },
  {
   "cell_type": "code",
   "execution_count": 15,
   "id": "dff42aab",
   "metadata": {},
   "outputs": [],
   "source": [
    "df = df.withColumn(\"YearJoined\", year(col(\"DateJoined\")))"
   ]
  },
  {
   "cell_type": "code",
   "execution_count": 16,
   "id": "902acf83",
   "metadata": {},
   "outputs": [
    {
     "name": "stdout",
     "output_type": "stream",
     "text": [
      "+----------+\n",
      "|YearJoined|\n",
      "+----------+\n",
      "|      2012|\n",
      "|      2014|\n",
      "|      2013|\n",
      "|      2014|\n",
      "|      2014|\n",
      "+----------+\n",
      "only showing top 5 rows\n",
      "\n"
     ]
    }
   ],
   "source": [
    "df.select('YearJoined').show(5)"
   ]
  },
  {
   "cell_type": "markdown",
   "id": "6ad34497",
   "metadata": {},
   "source": [
    "Now as the **Dt_Customer** feature has been changed to **DateJoined** feature, the former can be dropped from the dataframe. \n",
    "\n",
    "(Only the name has been changed along with the datatype has been changed to date format)"
   ]
  },
  {
   "cell_type": "code",
   "execution_count": 17,
   "id": "25607910",
   "metadata": {},
   "outputs": [],
   "source": [
    "df = df.drop(\"Dt_Customer\")"
   ]
  },
  {
   "cell_type": "code",
   "execution_count": 18,
   "id": "798c7dca",
   "metadata": {},
   "outputs": [
    {
     "name": "stdout",
     "output_type": "stream",
     "text": [
      "['ID', 'Year_Birth', 'Education', 'Marital_Status', 'Income', 'Kidhome', 'Teenhome', 'Recency', 'MntWines', 'MntFruits', 'MntMeatProducts', 'MntFishProducts', 'MntSweetProducts', 'MntGoldProds', 'NumDealsPurchases', 'NumWebPurchases', 'NumCatalogPurchases', 'NumStorePurchases', 'NumWebVisitsMonth', 'AcceptedCmp3', 'AcceptedCmp4', 'AcceptedCmp5', 'AcceptedCmp1', 'AcceptedCmp2', 'Complain', 'Z_CostContact', 'Z_Revenue', 'Response', 'DateJoined', 'YearJoined']\n"
     ]
    },
    {
     "data": {
      "text/plain": [
       "30"
      ]
     },
     "execution_count": 18,
     "metadata": {},
     "output_type": "execute_result"
    }
   ],
   "source": [
    "print(df.columns)\n",
    "len(df.columns)"
   ]
  },
  {
   "cell_type": "markdown",
   "id": "ce0da836",
   "metadata": {},
   "source": [
    "### Taking a Look at the years the customers got engaged with the company"
   ]
  },
  {
   "cell_type": "code",
   "execution_count": 19,
   "id": "41ce1f41",
   "metadata": {},
   "outputs": [
    {
     "name": "stdout",
     "output_type": "stream",
     "text": [
      "+----------+---------+\n",
      "|YearJoined|YearCount|\n",
      "+----------+---------+\n",
      "|      2012|      494|\n",
      "|      2013|     1189|\n",
      "|      2014|      557|\n",
      "+----------+---------+\n",
      "\n"
     ]
    }
   ],
   "source": [
    "unique_custYear = df.groupBy('YearJoined').agg(count(\"YearJoined\").alias(\"YearCount\")).orderBy(col(\"YearJoined\").asc())\n",
    "unique_custYear.show()"
   ]
  },
  {
   "cell_type": "markdown",
   "id": "10176468",
   "metadata": {},
   "source": [
    "As it can bee seen the dataset contains information about only the years 2012, 2013 and 2014. So for ease, I have decided to calculate the age for the year ***2015***. "
   ]
  },
  {
   "cell_type": "markdown",
   "id": "4c452d5d",
   "metadata": {},
   "source": [
    "### Adding Column 'DaysSinceJoined' using the 'DateJoined' Feature. "
   ]
  },
  {
   "cell_type": "code",
   "execution_count": 20,
   "id": "c25a8757",
   "metadata": {},
   "outputs": [],
   "source": [
    "reference_date = \"2015-01-01\"\n",
    "reference_date_col = lit(reference_date).cast(DateType())"
   ]
  },
  {
   "cell_type": "code",
   "execution_count": 21,
   "id": "ea264c7f",
   "metadata": {},
   "outputs": [
    {
     "data": {
      "text/plain": [
       "['ID',\n",
       " 'Year_Birth',\n",
       " 'Education',\n",
       " 'Marital_Status',\n",
       " 'Income',\n",
       " 'Kidhome',\n",
       " 'Teenhome',\n",
       " 'Recency',\n",
       " 'MntWines',\n",
       " 'MntFruits',\n",
       " 'MntMeatProducts',\n",
       " 'MntFishProducts',\n",
       " 'MntSweetProducts',\n",
       " 'MntGoldProds',\n",
       " 'NumDealsPurchases',\n",
       " 'NumWebPurchases',\n",
       " 'NumCatalogPurchases',\n",
       " 'NumStorePurchases',\n",
       " 'NumWebVisitsMonth',\n",
       " 'AcceptedCmp3',\n",
       " 'AcceptedCmp4',\n",
       " 'AcceptedCmp5',\n",
       " 'AcceptedCmp1',\n",
       " 'AcceptedCmp2',\n",
       " 'Complain',\n",
       " 'Z_CostContact',\n",
       " 'Z_Revenue',\n",
       " 'Response',\n",
       " 'DateJoined',\n",
       " 'YearJoined',\n",
       " 'DaysSinceJoined']"
      ]
     },
     "execution_count": 21,
     "metadata": {},
     "output_type": "execute_result"
    }
   ],
   "source": [
    "df = df.withColumn(\"DaysSinceJoined\", datediff(reference_date_col, col(\"DateJoined\")))\n",
    "df.columns"
   ]
  },
  {
   "cell_type": "code",
   "execution_count": 22,
   "id": "3d979845",
   "metadata": {},
   "outputs": [
    {
     "name": "stdout",
     "output_type": "stream",
     "text": [
      "+---------------+\n",
      "|DaysSinceJoined|\n",
      "+---------------+\n",
      "|            849|\n",
      "|            299|\n",
      "|            498|\n",
      "|            325|\n",
      "|            347|\n",
      "+---------------+\n",
      "only showing top 5 rows\n",
      "\n"
     ]
    }
   ],
   "source": [
    "df.select('DaysSinceJoined').show(5)"
   ]
  },
  {
   "cell_type": "markdown",
   "id": "65be9656",
   "metadata": {},
   "source": [
    "### Add 'Age' feature using the Year_Birth feature ( as of 2015)"
   ]
  },
  {
   "cell_type": "code",
   "execution_count": 23,
   "id": "abfec3bd",
   "metadata": {},
   "outputs": [
    {
     "name": "stdout",
     "output_type": "stream",
     "text": [
      "+---+\n",
      "|Age|\n",
      "+---+\n",
      "| 58|\n",
      "| 61|\n",
      "| 50|\n",
      "| 31|\n",
      "| 34|\n",
      "| 48|\n",
      "| 44|\n",
      "| 30|\n",
      "| 41|\n",
      "| 65|\n",
      "+---+\n",
      "only showing top 10 rows\n",
      "\n"
     ]
    }
   ],
   "source": [
    "df = df.withColumn(\"Age\", 2015 - col('Year_Birth'))\n",
    "df.select('Age').show(10)"
   ]
  },
  {
   "cell_type": "markdown",
   "id": "b9e927a5",
   "metadata": {},
   "source": [
    "As the feature Year_Birth has been change to Age feature, the former feature can be discarded."
   ]
  },
  {
   "cell_type": "code",
   "execution_count": 24,
   "id": "9548d901",
   "metadata": {},
   "outputs": [],
   "source": [
    "df = df.drop('Year_Birth')"
   ]
  },
  {
   "cell_type": "markdown",
   "id": "4ffbce9f",
   "metadata": {},
   "source": [
    "Similarly later for building the ML models, the date format feature can't be used and from \"DateJoined\" feature, another feature \"YearJoined\" has been made. So \"DateJoined\" can also be dropped from the data."
   ]
  },
  {
   "cell_type": "code",
   "execution_count": 25,
   "id": "b435bb65",
   "metadata": {},
   "outputs": [],
   "source": [
    "df = df.drop(\"DateJoined\")"
   ]
  },
  {
   "cell_type": "markdown",
   "id": "096339dc",
   "metadata": {},
   "source": [
    "The 'ID' feature doesn't hold value for further process so it can also be neglected."
   ]
  },
  {
   "cell_type": "code",
   "execution_count": 26,
   "id": "90a46193",
   "metadata": {},
   "outputs": [],
   "source": [
    "df = df.drop(\"ID\")"
   ]
  },
  {
   "cell_type": "markdown",
   "id": "5287539c",
   "metadata": {},
   "source": [
    "The 'YearJoined' feature has been transformed into 'DaysSinceJoined' feature. So keeping only on of it."
   ]
  },
  {
   "cell_type": "code",
   "execution_count": 27,
   "id": "25943c2e",
   "metadata": {},
   "outputs": [],
   "source": [
    "df = df.drop('YearJoined')"
   ]
  },
  {
   "cell_type": "code",
   "execution_count": 28,
   "id": "7f4cff38",
   "metadata": {},
   "outputs": [
    {
     "data": {
      "text/plain": [
       "[('Education', 'string'),\n",
       " ('Marital_Status', 'string'),\n",
       " ('Income', 'double'),\n",
       " ('Kidhome', 'int'),\n",
       " ('Teenhome', 'int'),\n",
       " ('Recency', 'int'),\n",
       " ('MntWines', 'int'),\n",
       " ('MntFruits', 'int'),\n",
       " ('MntMeatProducts', 'int'),\n",
       " ('MntFishProducts', 'int'),\n",
       " ('MntSweetProducts', 'int'),\n",
       " ('MntGoldProds', 'int'),\n",
       " ('NumDealsPurchases', 'int'),\n",
       " ('NumWebPurchases', 'int'),\n",
       " ('NumCatalogPurchases', 'int'),\n",
       " ('NumStorePurchases', 'int'),\n",
       " ('NumWebVisitsMonth', 'int'),\n",
       " ('AcceptedCmp3', 'int'),\n",
       " ('AcceptedCmp4', 'int'),\n",
       " ('AcceptedCmp5', 'int'),\n",
       " ('AcceptedCmp1', 'int'),\n",
       " ('AcceptedCmp2', 'int'),\n",
       " ('Complain', 'int'),\n",
       " ('Z_CostContact', 'int'),\n",
       " ('Z_Revenue', 'int'),\n",
       " ('Response', 'int'),\n",
       " ('DaysSinceJoined', 'int'),\n",
       " ('Age', 'int')]"
      ]
     },
     "execution_count": 28,
     "metadata": {},
     "output_type": "execute_result"
    }
   ],
   "source": [
    "df.dtypes"
   ]
  },
  {
   "cell_type": "code",
   "execution_count": 29,
   "id": "6a6edc78",
   "metadata": {},
   "outputs": [
    {
     "name": "stdout",
     "output_type": "stream",
     "text": [
      "['Education', 'Marital_Status']\n",
      "\n",
      "Total no. of non numerical columns:  2\n"
     ]
    }
   ],
   "source": [
    "non_numerical_cols = []\n",
    "\n",
    "for dtyp in df.dtypes:\n",
    "    if dtyp[1] not in ['int', 'double']:\n",
    "        non_numerical_cols.append(dtyp[0])\n",
    "\n",
    "print(non_numerical_cols)\n",
    "print(\"\\nTotal no. of non numerical columns: \",len(non_numerical_cols))"
   ]
  },
  {
   "cell_type": "code",
   "execution_count": 30,
   "id": "2bd63a34",
   "metadata": {},
   "outputs": [
    {
     "name": "stdout",
     "output_type": "stream",
     "text": [
      "['Income', 'Kidhome', 'Teenhome', 'Recency', 'MntWines', 'MntFruits', 'MntMeatProducts', 'MntFishProducts', 'MntSweetProducts', 'MntGoldProds', 'NumDealsPurchases', 'NumWebPurchases', 'NumCatalogPurchases', 'NumStorePurchases', 'NumWebVisitsMonth', 'AcceptedCmp3', 'AcceptedCmp4', 'AcceptedCmp5', 'AcceptedCmp1', 'AcceptedCmp2', 'Complain', 'Z_CostContact', 'Z_Revenue', 'Response', 'DaysSinceJoined', 'Age']\n",
      "\n",
      "Total no. of numerical columns:  26\n"
     ]
    }
   ],
   "source": [
    "numerical_cols = []\n",
    "\n",
    "for dtyp in df.dtypes:\n",
    "    if dtyp[1] in ['int', 'double']:\n",
    "        numerical_cols.append(dtyp[0])\n",
    "print(numerical_cols)\n",
    "print(\"\\nTotal no. of numerical columns: \",len(numerical_cols))"
   ]
  },
  {
   "cell_type": "markdown",
   "id": "7875dfd0",
   "metadata": {},
   "source": [
    "As describing all the numerical columns looked unorganized, I have split the integer cols using list indexing. "
   ]
  },
  {
   "cell_type": "code",
   "execution_count": 31,
   "id": "022380d9",
   "metadata": {},
   "outputs": [
    {
     "name": "stdout",
     "output_type": "stream",
     "text": [
      "+-------+------------------+-------------------+------------------+-----------------+------------------+------------------+\n",
      "|summary|            Income|            Kidhome|          Teenhome|          Recency|          MntWines|         MntFruits|\n",
      "+-------+------------------+-------------------+------------------+-----------------+------------------+------------------+\n",
      "|  count|              2216|               2240|              2240|             2240|              2240|              2240|\n",
      "|   mean| 52247.25135379061|0.44419642857142855|           0.50625|        49.109375| 303.9357142857143|26.302232142857143|\n",
      "| stddev|25173.076660901414| 0.5383980977345935|0.5445382307698761|28.96245280837821|336.59739260537197|39.773433764578584|\n",
      "|    min|            1730.0|                  0|                 0|                0|                 0|                 0|\n",
      "|    max|          666666.0|                  2|                 2|               99|              1493|               199|\n",
      "+-------+------------------+-------------------+------------------+-----------------+------------------+------------------+\n",
      "\n"
     ]
    }
   ],
   "source": [
    "#describe the data\n",
    "df.describe(numerical_cols[0:6]).show()"
   ]
  },
  {
   "cell_type": "code",
   "execution_count": 32,
   "id": "b56588cf",
   "metadata": {},
   "outputs": [
    {
     "name": "stdout",
     "output_type": "stream",
     "text": [
      "+-------+-----------------+------------------+-----------------+----------------+-----------------+------------------+\n",
      "|summary|  MntMeatProducts|   MntFishProducts| MntSweetProducts|    MntGoldProds|NumDealsPurchases|   NumWebPurchases|\n",
      "+-------+-----------------+------------------+-----------------+----------------+-----------------+------------------+\n",
      "|  count|             2240|              2240|             2240|            2240|             2240|              2240|\n",
      "|   mean|           166.95| 37.52544642857143|27.06294642857143|       44.021875|            2.325| 4.084821428571429|\n",
      "| stddev|225.7153725117536|54.628979402878095|41.28049848785491|52.1674389149973| 1.93223750085598|2.7787141473881007|\n",
      "|    min|                0|                 0|                0|               0|                0|                 0|\n",
      "|    max|             1725|               259|              263|             362|               15|                27|\n",
      "+-------+-----------------+------------------+-----------------+----------------+-----------------+------------------+\n",
      "\n"
     ]
    }
   ],
   "source": [
    "df.describe(numerical_cols[6:12]).show()"
   ]
  },
  {
   "cell_type": "code",
   "execution_count": 33,
   "id": "422117f4",
   "metadata": {},
   "outputs": [
    {
     "name": "stdout",
     "output_type": "stream",
     "text": [
      "+-------+-------------------+-----------------+-----------------+-------------------+-------------------+\n",
      "|summary|NumCatalogPurchases|NumStorePurchases|NumWebVisitsMonth|       AcceptedCmp3|       AcceptedCmp4|\n",
      "+-------+-------------------+-----------------+-----------------+-------------------+-------------------+\n",
      "|  count|               2240|             2240|             2240|               2240|               2240|\n",
      "|   mean| 2.6620535714285714|5.790178571428571|5.316517857142857|0.07276785714285715|0.07455357142857143|\n",
      "| stddev| 2.9231006555397463|3.250958145674428| 2.42664500954729| 0.2598130699218951|0.26272828485356176|\n",
      "|    min|                  0|                0|                0|                  0|                  0|\n",
      "|    max|                 28|               13|               20|                  1|                  1|\n",
      "+-------+-------------------+-----------------+-----------------+-------------------+-------------------+\n",
      "\n"
     ]
    }
   ],
   "source": [
    "df.describe(numerical_cols[12:17]).show()"
   ]
  },
  {
   "cell_type": "code",
   "execution_count": 34,
   "id": "3c881a69",
   "metadata": {},
   "outputs": [
    {
     "name": "stdout",
     "output_type": "stream",
     "text": [
      "+-------+-------------------+-------------------+--------------------+-------------------+-------------+---------+\n",
      "|summary|       AcceptedCmp5|       AcceptedCmp1|        AcceptedCmp2|           Complain|Z_CostContact|Z_Revenue|\n",
      "+-------+-------------------+-------------------+--------------------+-------------------+-------------+---------+\n",
      "|  count|               2240|               2240|                2240|               2240|         2240|     2240|\n",
      "|   mean|0.07276785714285715|0.06428571428571428|0.013392857142857142|           0.009375|          3.0|     11.0|\n",
      "| stddev| 0.2598130699218953|0.24531597433401406| 0.11497560625548417|0.09639116794449748|          0.0|      0.0|\n",
      "|    min|                  0|                  0|                   0|                  0|            3|       11|\n",
      "|    max|                  1|                  1|                   1|                  1|            3|       11|\n",
      "+-------+-------------------+-------------------+--------------------+-------------------+-------------+---------+\n",
      "\n"
     ]
    }
   ],
   "source": [
    "df.describe(numerical_cols[17:23]).show()"
   ]
  },
  {
   "cell_type": "code",
   "execution_count": 35,
   "id": "6e1ad556",
   "metadata": {},
   "outputs": [
    {
     "name": "stdout",
     "output_type": "stream",
     "text": [
      "+-------+-------------------+------------------+------------------+\n",
      "|summary|           Response|   DaysSinceJoined|               Age|\n",
      "+-------+-------------------+------------------+------------------+\n",
      "|  count|               2240|              2240|              2240|\n",
      "|   mean|0.14910714285714285| 539.5821428571429| 46.19419642857143|\n",
      "| stddev|0.35627358640847934|202.12251234854045|11.984069456885836|\n",
      "|    min|                  0|               186|                19|\n",
      "|    max|                  1|               885|               122|\n",
      "+-------+-------------------+------------------+------------------+\n",
      "\n"
     ]
    }
   ],
   "source": [
    "df.describe(numerical_cols[23:]).show()"
   ]
  },
  {
   "cell_type": "markdown",
   "id": "a27dd6db",
   "metadata": {},
   "source": [
    "### Looking for Missing or Null values"
   ]
  },
  {
   "cell_type": "code",
   "execution_count": 36,
   "id": "ebdf8b64",
   "metadata": {},
   "outputs": [
    {
     "name": "stdout",
     "output_type": "stream",
     "text": [
      "-RECORD 0------------------\n",
      " Education           | 0   \n",
      " Marital_Status      | 0   \n",
      " Income              | 24  \n",
      " Kidhome             | 0   \n",
      " Teenhome            | 0   \n",
      " Recency             | 0   \n",
      " MntWines            | 0   \n",
      " MntFruits           | 0   \n",
      " MntMeatProducts     | 0   \n",
      " MntFishProducts     | 0   \n",
      " MntSweetProducts    | 0   \n",
      " MntGoldProds        | 0   \n",
      " NumDealsPurchases   | 0   \n",
      " NumWebPurchases     | 0   \n",
      " NumCatalogPurchases | 0   \n",
      " NumStorePurchases   | 0   \n",
      " NumWebVisitsMonth   | 0   \n",
      " AcceptedCmp3        | 0   \n",
      " AcceptedCmp4        | 0   \n",
      " AcceptedCmp5        | 0   \n",
      " AcceptedCmp1        | 0   \n",
      " AcceptedCmp2        | 0   \n",
      " Complain            | 0   \n",
      " Z_CostContact       | 0   \n",
      " Z_Revenue           | 0   \n",
      " Response            | 0   \n",
      " DaysSinceJoined     | 0   \n",
      " Age                 | 0   \n",
      "\n"
     ]
    }
   ],
   "source": [
    "null_counts = df.select([sum(col(col_name).isNull().cast(\"int\")).alias(col_name) for col_name in df.columns])\n",
    "null_counts.show(vertical=True)"
   ]
  },
  {
   "cell_type": "markdown",
   "id": "09aca2e6",
   "metadata": {},
   "source": [
    "As we can see there are 24 Null values present in the \"Income\" feature, we can simply just drop those values. "
   ]
  },
  {
   "cell_type": "code",
   "execution_count": 37,
   "id": "931e083a",
   "metadata": {},
   "outputs": [
    {
     "name": "stdout",
     "output_type": "stream",
     "text": [
      "2216\n"
     ]
    }
   ],
   "source": [
    "df = df.na.drop()\n",
    "print(df.count())"
   ]
  },
  {
   "cell_type": "markdown",
   "id": "ec823dc2",
   "metadata": {},
   "source": [
    "2240-24 = 2216 rows remaining after removing 24 Null values from the dataset."
   ]
  },
  {
   "cell_type": "markdown",
   "id": "b830a484",
   "metadata": {},
   "source": [
    "## Looking at different unique values of Individual Columns"
   ]
  },
  {
   "cell_type": "markdown",
   "id": "8dcc65db",
   "metadata": {},
   "source": [
    "### Unique Ages of the Customers"
   ]
  },
  {
   "cell_type": "code",
   "execution_count": 38,
   "id": "3a1d76c9",
   "metadata": {},
   "outputs": [
    {
     "name": "stdout",
     "output_type": "stream",
     "text": [
      "+---+--------+\n",
      "|Age|AgeCount|\n",
      "+---+--------+\n",
      "|19 |2       |\n",
      "|20 |5       |\n",
      "|21 |3       |\n",
      "|22 |5       |\n",
      "|23 |13      |\n",
      "|24 |15      |\n",
      "|25 |18      |\n",
      "|26 |29      |\n",
      "|27 |29      |\n",
      "|28 |27      |\n",
      "|29 |41      |\n",
      "|30 |32      |\n",
      "|31 |38      |\n",
      "|32 |41      |\n",
      "|33 |44      |\n",
      "|34 |38      |\n",
      "|35 |39      |\n",
      "|36 |53      |\n",
      "|37 |76      |\n",
      "|38 |52      |\n",
      "|39 |89      |\n",
      "|40 |83      |\n",
      "|41 |69      |\n",
      "|42 |72      |\n",
      "|43 |78      |\n",
      "|44 |86      |\n",
      "|45 |75      |\n",
      "|46 |70      |\n",
      "|47 |51      |\n",
      "|48 |44      |\n",
      "|49 |50      |\n",
      "|50 |74      |\n",
      "|51 |41      |\n",
      "|52 |44      |\n",
      "|53 |44      |\n",
      "|54 |35      |\n",
      "|55 |49      |\n",
      "|56 |50      |\n",
      "|57 |52      |\n",
      "|58 |41      |\n",
      "|59 |55      |\n",
      "|60 |48      |\n",
      "|61 |49      |\n",
      "|62 |35      |\n",
      "|63 |52      |\n",
      "|64 |42      |\n",
      "|65 |29      |\n",
      "|66 |30      |\n",
      "|67 |21      |\n",
      "|68 |16      |\n",
      "|69 |16      |\n",
      "|70 |8       |\n",
      "|71 |7       |\n",
      "|72 |6       |\n",
      "|74 |1       |\n",
      "|75 |1       |\n",
      "|115|1       |\n",
      "|116|1       |\n",
      "|122|1       |\n",
      "+---+--------+\n",
      "\n"
     ]
    }
   ],
   "source": [
    "unique_custAge = df.groupBy('Age').agg(count(\"Age\").alias(\"AgeCount\")).orderBy(col(\"Age\").asc())\n",
    "unique_custAge.show(truncate=False, n = 100)"
   ]
  },
  {
   "cell_type": "code",
   "execution_count": 190,
   "id": "c3a0b285",
   "metadata": {},
   "outputs": [
    {
     "data": {
      "text/plain": [
       "[Row(Age=74, AgeCount=1),\n",
       " Row(Age=75, AgeCount=1),\n",
       " Row(Age=115, AgeCount=1),\n",
       " Row(Age=116, AgeCount=1),\n",
       " Row(Age=122, AgeCount=1)]"
      ]
     },
     "execution_count": 190,
     "metadata": {},
     "output_type": "execute_result"
    }
   ],
   "source": [
    "unique_custAge.tail(5)"
   ]
  },
  {
   "cell_type": "code",
   "execution_count": 39,
   "id": "d0183f00",
   "metadata": {},
   "outputs": [
    {
     "name": "stdout",
     "output_type": "stream",
     "text": [
      "+-------+------------------+\n",
      "|summary|               Age|\n",
      "+-------+------------------+\n",
      "|  count|                59|\n",
      "|   mean|50.152542372881356|\n",
      "| stddev|22.428286911169238|\n",
      "|    min|                19|\n",
      "|    max|               122|\n",
      "+-------+------------------+\n",
      "\n"
     ]
    }
   ],
   "source": [
    "unique_custAge.describe('Age').show()"
   ]
  },
  {
   "cell_type": "markdown",
   "id": "0f073d10",
   "metadata": {},
   "source": [
    "### Max age is seen to be 122. Also we can see from the dataset that there are records of people who are older than 100 years. For the sake of simplicity, I have decided to remove rows with age > 100. "
   ]
  },
  {
   "cell_type": "code",
   "execution_count": 40,
   "id": "c83b150f",
   "metadata": {},
   "outputs": [
    {
     "data": {
      "text/plain": [
       "2213"
      ]
     },
     "execution_count": 40,
     "metadata": {},
     "output_type": "execute_result"
    }
   ],
   "source": [
    "df = df.filter(df.Age < 100)\n",
    "df.count()"
   ]
  },
  {
   "cell_type": "markdown",
   "id": "f0c6080c",
   "metadata": {},
   "source": [
    "After removing 3 instances of customers with age more than 100, there are 2213 rows left. "
   ]
  },
  {
   "cell_type": "markdown",
   "id": "94a2a108",
   "metadata": {},
   "source": [
    "### Different Marital Status and Their Count"
   ]
  },
  {
   "cell_type": "code",
   "execution_count": 41,
   "id": "698e4287",
   "metadata": {},
   "outputs": [],
   "source": [
    "unique_marital = df.groupBy('Marital_Status').agg(count(\"Marital_Status\").alias(\"MaritalCount\")).orderBy(col(\"MaritalCount\").desc())"
   ]
  },
  {
   "cell_type": "code",
   "execution_count": 42,
   "id": "3f75fded",
   "metadata": {},
   "outputs": [
    {
     "name": "stdout",
     "output_type": "stream",
     "text": [
      "+--------------+------------+\n",
      "|Marital_Status|MaritalCount|\n",
      "+--------------+------------+\n",
      "|       Married|         857|\n",
      "|      Together|         572|\n",
      "|        Single|         470|\n",
      "|      Divorced|         231|\n",
      "|         Widow|          76|\n",
      "|         Alone|           3|\n",
      "|          YOLO|           2|\n",
      "|        Absurd|           2|\n",
      "+--------------+------------+\n",
      "\n"
     ]
    }
   ],
   "source": [
    "unique_marital.show()"
   ]
  },
  {
   "cell_type": "markdown",
   "id": "341cd681",
   "metadata": {},
   "source": [
    "### Different Education Levels and their Count"
   ]
  },
  {
   "cell_type": "code",
   "execution_count": 43,
   "id": "69367e8d",
   "metadata": {},
   "outputs": [
    {
     "name": "stdout",
     "output_type": "stream",
     "text": [
      "+----------+--------------+\n",
      "| Education|EducationCount|\n",
      "+----------+--------------+\n",
      "|Graduation|          1116|\n",
      "|       PhD|           480|\n",
      "|    Master|           365|\n",
      "|  2n Cycle|           198|\n",
      "|     Basic|            54|\n",
      "+----------+--------------+\n",
      "\n"
     ]
    }
   ],
   "source": [
    "unique_education = df.groupBy('Education').agg(count(\"Education\").alias(\"EducationCount\")).orderBy(col(\"EducationCount\").desc())\n",
    "unique_education.show()"
   ]
  },
  {
   "cell_type": "markdown",
   "id": "9ce5fa16",
   "metadata": {},
   "source": [
    "### Amount of Wine Consumed Based on the Marital Status"
   ]
  },
  {
   "cell_type": "code",
   "execution_count": 44,
   "id": "5723f803",
   "metadata": {},
   "outputs": [],
   "source": [
    "marital_mntwines = df.groupBy('Marital_Status').agg(sum(col('MntWines')).alias(\"Amt Spent on Wine in last 2 years\"))"
   ]
  },
  {
   "cell_type": "code",
   "execution_count": 45,
   "id": "53af8640",
   "metadata": {},
   "outputs": [
    {
     "name": "stdout",
     "output_type": "stream",
     "text": [
      "+--------------+---------------------------------+\n",
      "|Marital_Status|Amt Spent on Wine in last 2 years|\n",
      "+--------------+---------------------------------+\n",
      "|         Alone|                              554|\n",
      "|          YOLO|                              644|\n",
      "|        Absurd|                              711|\n",
      "|         Widow|                            27902|\n",
      "|      Divorced|                            75349|\n",
      "|        Single|                           137209|\n",
      "|      Together|                           175960|\n",
      "|       Married|                           256976|\n",
      "+--------------+---------------------------------+\n",
      "\n"
     ]
    }
   ],
   "source": [
    "marital_mntwines.sort(\"Amt Spent on Wine in last 2 years\").show()"
   ]
  },
  {
   "cell_type": "markdown",
   "id": "88fc2d06",
   "metadata": {},
   "source": [
    "### Using String Indexer to labelize the String Category Features"
   ]
  },
  {
   "cell_type": "code",
   "execution_count": 46,
   "id": "237a3bff",
   "metadata": {},
   "outputs": [
    {
     "name": "stdout",
     "output_type": "stream",
     "text": [
      "+----------+--------------+-------+-------+--------+-------+--------+---------+---------------+---------------+----------------+------------+-----------------+---------------+-------------------+-----------------+-----------------+------------+------------+------------+------------+------------+--------+-------------+---------+--------+---------------+---+--------------+-------------------+\n",
      "| Education|Marital_Status| Income|Kidhome|Teenhome|Recency|MntWines|MntFruits|MntMeatProducts|MntFishProducts|MntSweetProducts|MntGoldProds|NumDealsPurchases|NumWebPurchases|NumCatalogPurchases|NumStorePurchases|NumWebVisitsMonth|AcceptedCmp3|AcceptedCmp4|AcceptedCmp5|AcceptedCmp1|AcceptedCmp2|Complain|Z_CostContact|Z_Revenue|Response|DaysSinceJoined|Age|EducationIndex|Marital_StatusIndex|\n",
      "+----------+--------------+-------+-------+--------+-------+--------+---------+---------------+---------------+----------------+------------+-----------------+---------------+-------------------+-----------------+-----------------+------------+------------+------------+------------+------------+--------+-------------+---------+--------+---------------+---+--------------+-------------------+\n",
      "|Graduation|        Single|58138.0|      0|       0|     58|     635|       88|            546|            172|              88|          88|                3|              8|                 10|                4|                7|           0|           0|           0|           0|           0|       0|            3|       11|       1|            849| 58|           0.0|                2.0|\n",
      "|Graduation|        Single|46344.0|      1|       1|     38|      11|        1|              6|              2|               1|           6|                2|              1|                  1|                2|                5|           0|           0|           0|           0|           0|       0|            3|       11|       0|            299| 61|           0.0|                2.0|\n",
      "|Graduation|      Together|71613.0|      0|       0|     26|     426|       49|            127|            111|              21|          42|                1|              8|                  2|               10|                4|           0|           0|           0|           0|           0|       0|            3|       11|       0|            498| 50|           0.0|                1.0|\n",
      "|Graduation|      Together|26646.0|      1|       0|     26|      11|        4|             20|             10|               3|           5|                2|              2|                  0|                4|                6|           0|           0|           0|           0|           0|       0|            3|       11|       0|            325| 31|           0.0|                1.0|\n",
      "|       PhD|       Married|58293.0|      1|       0|     94|     173|       43|            118|             46|              27|          15|                5|              5|                  3|                6|                5|           0|           0|           0|           0|           0|       0|            3|       11|       0|            347| 34|           1.0|                0.0|\n",
      "+----------+--------------+-------+-------+--------+-------+--------+---------+---------------+---------------+----------------+------------+-----------------+---------------+-------------------+-----------------+-----------------+------------+------------+------------+------------+------------+--------+-------------+---------+--------+---------------+---+--------------+-------------------+\n",
      "only showing top 5 rows\n",
      "\n"
     ]
    }
   ],
   "source": [
    "indexer = StringIndexer(inputCols = non_numerical_cols, outputCols = ['EducationIndex', 'Marital_StatusIndex'])\n",
    "df_1 = indexer.fit(df).transform(df)\n",
    "df_1.show(5)"
   ]
  },
  {
   "cell_type": "code",
   "execution_count": 47,
   "id": "94e8f057",
   "metadata": {},
   "outputs": [
    {
     "name": "stdout",
     "output_type": "stream",
     "text": [
      "+--------------+-------------------+\n",
      "|EducationIndex|Marital_StatusIndex|\n",
      "+--------------+-------------------+\n",
      "|           0.0|                2.0|\n",
      "|           0.0|                2.0|\n",
      "|           0.0|                1.0|\n",
      "|           0.0|                1.0|\n",
      "|           1.0|                0.0|\n",
      "+--------------+-------------------+\n",
      "only showing top 5 rows\n",
      "\n"
     ]
    }
   ],
   "source": [
    "df_1.select('EducationIndex', 'Marital_StatusIndex').show(5)"
   ]
  },
  {
   "cell_type": "code",
   "execution_count": 50,
   "id": "1bcefeae",
   "metadata": {},
   "outputs": [
    {
     "data": {
      "text/plain": [
       "[('Education', 'string'),\n",
       " ('Marital_Status', 'string'),\n",
       " ('Income', 'double'),\n",
       " ('Kidhome', 'int'),\n",
       " ('Teenhome', 'int'),\n",
       " ('Recency', 'int'),\n",
       " ('MntWines', 'int'),\n",
       " ('MntFruits', 'int'),\n",
       " ('MntMeatProducts', 'int'),\n",
       " ('MntFishProducts', 'int'),\n",
       " ('MntSweetProducts', 'int'),\n",
       " ('MntGoldProds', 'int'),\n",
       " ('NumDealsPurchases', 'int'),\n",
       " ('NumWebPurchases', 'int'),\n",
       " ('NumCatalogPurchases', 'int'),\n",
       " ('NumStorePurchases', 'int'),\n",
       " ('NumWebVisitsMonth', 'int'),\n",
       " ('AcceptedCmp3', 'int'),\n",
       " ('AcceptedCmp4', 'int'),\n",
       " ('AcceptedCmp5', 'int'),\n",
       " ('AcceptedCmp1', 'int'),\n",
       " ('AcceptedCmp2', 'int'),\n",
       " ('Complain', 'int'),\n",
       " ('Z_CostContact', 'int'),\n",
       " ('Z_Revenue', 'int'),\n",
       " ('Response', 'int'),\n",
       " ('DaysSinceJoined', 'int'),\n",
       " ('Age', 'int'),\n",
       " ('EducationIndex', 'double'),\n",
       " ('Marital_StatusIndex', 'double')]"
      ]
     },
     "execution_count": 50,
     "metadata": {},
     "output_type": "execute_result"
    }
   ],
   "source": [
    "df_1.dtypes"
   ]
  },
  {
   "cell_type": "code",
   "execution_count": 57,
   "id": "d7b15154",
   "metadata": {},
   "outputs": [],
   "source": [
    "inputColsForFeatures = [col for col in df_1.columns if col not in ['Education', 'Marital_Status']]"
   ]
  },
  {
   "cell_type": "code",
   "execution_count": 58,
   "id": "c7513d32",
   "metadata": {},
   "outputs": [
    {
     "data": {
      "text/plain": [
       "['Income',\n",
       " 'Kidhome',\n",
       " 'Teenhome',\n",
       " 'Recency',\n",
       " 'MntWines',\n",
       " 'MntFruits',\n",
       " 'MntMeatProducts',\n",
       " 'MntFishProducts',\n",
       " 'MntSweetProducts',\n",
       " 'MntGoldProds',\n",
       " 'NumDealsPurchases',\n",
       " 'NumWebPurchases',\n",
       " 'NumCatalogPurchases',\n",
       " 'NumStorePurchases',\n",
       " 'NumWebVisitsMonth',\n",
       " 'AcceptedCmp3',\n",
       " 'AcceptedCmp4',\n",
       " 'AcceptedCmp5',\n",
       " 'AcceptedCmp1',\n",
       " 'AcceptedCmp2',\n",
       " 'Complain',\n",
       " 'Z_CostContact',\n",
       " 'Z_Revenue',\n",
       " 'Response',\n",
       " 'DaysSinceJoined',\n",
       " 'Age',\n",
       " 'EducationIndex',\n",
       " 'Marital_StatusIndex']"
      ]
     },
     "execution_count": 58,
     "metadata": {},
     "output_type": "execute_result"
    }
   ],
   "source": [
    "inputColsForFeatures"
   ]
  },
  {
   "cell_type": "markdown",
   "id": "a3b9f1d4",
   "metadata": {},
   "source": [
    "### Creating an Assembler and use it to create a ML Model"
   ]
  },
  {
   "cell_type": "code",
   "execution_count": 61,
   "id": "6f7948da",
   "metadata": {},
   "outputs": [],
   "source": [
    "features_assembler = VectorAssembler(inputCols = inputColsForFeatures, outputCol = \"AllFeatures\")\n",
    "output = features_assembler.transform(df_1)"
   ]
  },
  {
   "cell_type": "code",
   "execution_count": 192,
   "id": "a26c74e8",
   "metadata": {},
   "outputs": [
    {
     "name": "stdout",
     "output_type": "stream",
     "text": [
      "['Education', 'Marital_Status', 'Income', 'Kidhome', 'Teenhome', 'Recency', 'MntWines', 'MntFruits', 'MntMeatProducts', 'MntFishProducts', 'MntSweetProducts', 'MntGoldProds', 'NumDealsPurchases', 'NumWebPurchases', 'NumCatalogPurchases', 'NumStorePurchases', 'NumWebVisitsMonth', 'AcceptedCmp3', 'AcceptedCmp4', 'AcceptedCmp5', 'AcceptedCmp1', 'AcceptedCmp2', 'Complain', 'Z_CostContact', 'Z_Revenue', 'Response', 'DaysSinceJoined', 'Age', 'EducationIndex', 'Marital_StatusIndex', 'AllFeatures']\n"
     ]
    }
   ],
   "source": [
    "print(output.columns)"
   ]
  },
  {
   "cell_type": "code",
   "execution_count": 195,
   "id": "fd0652df",
   "metadata": {},
   "outputs": [
    {
     "name": "stdout",
     "output_type": "stream",
     "text": [
      "+------------------------------------------------------------------------------------------------------------------------------------+\n",
      "|AllFeatures                                                                                                                         |\n",
      "+------------------------------------------------------------------------------------------------------------------------------------+\n",
      "|[58138.0,0.0,0.0,58.0,635.0,88.0,546.0,172.0,88.0,88.0,3.0,8.0,10.0,4.0,7.0,0.0,0.0,0.0,0.0,0.0,0.0,3.0,11.0,1.0,849.0,58.0,0.0,2.0]|\n",
      "|[46344.0,1.0,1.0,38.0,11.0,1.0,6.0,2.0,1.0,6.0,2.0,1.0,1.0,2.0,5.0,0.0,0.0,0.0,0.0,0.0,0.0,3.0,11.0,0.0,299.0,61.0,0.0,2.0]         |\n",
      "|[71613.0,0.0,0.0,26.0,426.0,49.0,127.0,111.0,21.0,42.0,1.0,8.0,2.0,10.0,4.0,0.0,0.0,0.0,0.0,0.0,0.0,3.0,11.0,0.0,498.0,50.0,0.0,1.0]|\n",
      "|[26646.0,1.0,0.0,26.0,11.0,4.0,20.0,10.0,3.0,5.0,2.0,2.0,0.0,4.0,6.0,0.0,0.0,0.0,0.0,0.0,0.0,3.0,11.0,0.0,325.0,31.0,0.0,1.0]       |\n",
      "|[58293.0,1.0,0.0,94.0,173.0,43.0,118.0,46.0,27.0,15.0,5.0,5.0,3.0,6.0,5.0,0.0,0.0,0.0,0.0,0.0,0.0,3.0,11.0,0.0,347.0,34.0,1.0,0.0]  |\n",
      "+------------------------------------------------------------------------------------------------------------------------------------+\n",
      "only showing top 5 rows\n",
      "\n"
     ]
    }
   ],
   "source": [
    "output.select('AllFeatures').show(5, truncate=False)"
   ]
  },
  {
   "cell_type": "markdown",
   "id": "d8341405",
   "metadata": {},
   "source": [
    "### Using KMeans "
   ]
  },
  {
   "cell_type": "markdown",
   "id": "a78d03de",
   "metadata": {},
   "source": [
    "Finding number of clusters using Silhouette Score."
   ]
  },
  {
   "cell_type": "code",
   "execution_count": 68,
   "id": "653411ca",
   "metadata": {},
   "outputs": [
    {
     "name": "stdout",
     "output_type": "stream",
     "text": [
      "Silhouette Score for k = 2 is 0.654573709712409\n",
      "Silhouette Score for k = 3 is 0.5010653430677868\n",
      "Silhouette Score for k = 4 is 0.6798660527318555\n",
      "Silhouette Score for k = 5 is 0.6544930681268101\n",
      "Silhouette Score for k = 6 is 0.6348422224489265\n",
      "Silhouette Score for k = 7 is 0.6899016933802867\n",
      "Silhouette Score for k = 8 is 0.6761839042255335\n",
      "Silhouette Score for k = 9 is 0.6704311466473595\n"
     ]
    }
   ],
   "source": [
    "silhouette_score=[]\n",
    "  \n",
    "evaluator = ClusteringEvaluator(predictionCol='prediction',\n",
    "                                featuresCol='AllFeatures', \\\n",
    "                                metricName='silhouette', \n",
    "                                distanceMeasure='squaredEuclidean')\n",
    "  \n",
    "for i in range(2,10):\n",
    "    kmeans=KMeans(featuresCol='AllFeatures', k=i)\n",
    "    model=kmeans.fit(output)\n",
    "    predictions=model.transform(output)\n",
    "    score=evaluator.evaluate(predictions)\n",
    "    silhouette_score.append(score)\n",
    "    print('Silhouette Score for k =',i,'is',score)"
   ]
  },
  {
   "cell_type": "code",
   "execution_count": 73,
   "id": "d7e87503",
   "metadata": {},
   "outputs": [
    {
     "data": {
      "image/png": "[encoded data removed]",
      "text/plain": [
       "<Figure size 640x480 with 1 Axes>"
      ]
     },
     "metadata": {},
     "output_type": "display_data"
    }
   ],
   "source": [
    "plt.plot(range(2,10),silhouette_score)\n",
    "plt.xlabel('k')\n",
    "plt.ylabel('silhouette score')\n",
    "\n",
    "plt.show()"
   ]
  },
  {
   "cell_type": "markdown",
   "id": "8a07fcd4",
   "metadata": {},
   "source": [
    "Choosing k = 7 as per the silhouette score."
   ]
  },
  {
   "cell_type": "code",
   "execution_count": 75,
   "id": "0ccb37b7",
   "metadata": {},
   "outputs": [],
   "source": [
    "kmeans = KMeans(featuresCol=\"AllFeatures\", k = 7)\n",
    "model_kmeans = kmeans.fit(output)"
   ]
  },
  {
   "cell_type": "code",
   "execution_count": 76,
   "id": "586c804f",
   "metadata": {},
   "outputs": [],
   "source": [
    "predictions = model_kmeans.transform(output)"
   ]
  },
  {
   "cell_type": "code",
   "execution_count": 196,
   "id": "c04571fb",
   "metadata": {},
   "outputs": [
    {
     "name": "stdout",
     "output_type": "stream",
     "text": [
      "+----------+--------------+-------+-------+--------+-------+--------+---------+---------------+---------------+----------------+------------+-----------------+---------------+-------------------+-----------------+-----------------+------------+------------+------------+------------+------------+--------+-------------+---------+--------+---------------+---+--------------+-------------------+--------------------+----------+\n",
      "| Education|Marital_Status| Income|Kidhome|Teenhome|Recency|MntWines|MntFruits|MntMeatProducts|MntFishProducts|MntSweetProducts|MntGoldProds|NumDealsPurchases|NumWebPurchases|NumCatalogPurchases|NumStorePurchases|NumWebVisitsMonth|AcceptedCmp3|AcceptedCmp4|AcceptedCmp5|AcceptedCmp1|AcceptedCmp2|Complain|Z_CostContact|Z_Revenue|Response|DaysSinceJoined|Age|EducationIndex|Marital_StatusIndex|         AllFeatures|prediction|\n",
      "+----------+--------------+-------+-------+--------+-------+--------+---------+---------------+---------------+----------------+------------+-----------------+---------------+-------------------+-----------------+-----------------+------------+------------+------------+------------+------------+--------+-------------+---------+--------+---------------+---+--------------+-------------------+--------------------+----------+\n",
      "|Graduation|        Single|58138.0|      0|       0|     58|     635|       88|            546|            172|              88|          88|                3|              8|                 10|                4|                7|           0|           0|           0|           0|           0|       0|            3|       11|       1|            849| 58|           0.0|                2.0|[58138.0,0.0,0.0,...|         6|\n",
      "|Graduation|        Single|46344.0|      1|       1|     38|      11|        1|              6|              2|               1|           6|                2|              1|                  1|                2|                5|           0|           0|           0|           0|           0|       0|            3|       11|       0|            299| 61|           0.0|                2.0|[46344.0,1.0,1.0,...|         0|\n",
      "|Graduation|      Together|71613.0|      0|       0|     26|     426|       49|            127|            111|              21|          42|                1|              8|                  2|               10|                4|           0|           0|           0|           0|           0|       0|            3|       11|       0|            498| 50|           0.0|                1.0|[71613.0,0.0,0.0,...|         6|\n",
      "+----------+--------------+-------+-------+--------+-------+--------+---------+---------------+---------------+----------------+------------+-----------------+---------------+-------------------+-----------------+-----------------+------------+------------+------------+------------+------------+--------+-------------+---------+--------+---------------+---+--------------+-------------------+--------------------+----------+\n",
      "only showing top 3 rows\n",
      "\n"
     ]
    }
   ],
   "source": [
    "predictions.show(3)"
   ]
  },
  {
   "cell_type": "markdown",
   "id": "baaf49a1",
   "metadata": {},
   "source": [
    "#### Count of the various predicted Clusters"
   ]
  },
  {
   "cell_type": "code",
   "execution_count": 197,
   "id": "3268792d",
   "metadata": {},
   "outputs": [
    {
     "name": "stdout",
     "output_type": "stream",
     "text": [
      "+----------+-----+\n",
      "|prediction|count|\n",
      "+----------+-----+\n",
      "|         1|  494|\n",
      "|         6|  526|\n",
      "|         3|  381|\n",
      "|         5|    7|\n",
      "|         4|  314|\n",
      "|         2|    1|\n",
      "|         0|  490|\n",
      "+----------+-----+\n",
      "\n"
     ]
    }
   ],
   "source": [
    "predictions.groupby('prediction').count().show()"
   ]
  },
  {
   "cell_type": "code",
   "execution_count": 111,
   "id": "cc915a73",
   "metadata": {},
   "outputs": [
    {
     "data": {
      "text/plain": [
       "['Education',\n",
       " 'Marital_Status',\n",
       " 'Income',\n",
       " 'Kidhome',\n",
       " 'Teenhome',\n",
       " 'Recency',\n",
       " 'MntWines',\n",
       " 'MntFruits',\n",
       " 'MntMeatProducts',\n",
       " 'MntFishProducts',\n",
       " 'MntSweetProducts',\n",
       " 'MntGoldProds',\n",
       " 'NumDealsPurchases',\n",
       " 'NumWebPurchases',\n",
       " 'NumCatalogPurchases',\n",
       " 'NumStorePurchases',\n",
       " 'NumWebVisitsMonth',\n",
       " 'AcceptedCmp3',\n",
       " 'AcceptedCmp4',\n",
       " 'AcceptedCmp5',\n",
       " 'AcceptedCmp1',\n",
       " 'AcceptedCmp2',\n",
       " 'Complain',\n",
       " 'Z_CostContact',\n",
       " 'Z_Revenue',\n",
       " 'Response',\n",
       " 'DaysSinceJoined',\n",
       " 'Age',\n",
       " 'prediction']"
      ]
     },
     "execution_count": 111,
     "metadata": {},
     "output_type": "execute_result"
    }
   ],
   "source": [
    "temp = predictions.drop('EducationIndex', 'Marital_StatusIndex', 'AllFeatures')\n",
    "temp.columns"
   ]
  },
  {
   "cell_type": "code",
   "execution_count": 112,
   "id": "9b8236e4",
   "metadata": {},
   "outputs": [
    {
     "name": "stdout",
     "output_type": "stream",
     "text": [
      "+----------+--------------+-------+-------+--------+-------+--------+---------+---------------+---------------+----------------+------------+-----------------+---------------+-------------------+-----------------+-----------------+------------+------------+------------+------------+------------+--------+-------------+---------+--------+---------------+---+----------+\n",
      "| Education|Marital_Status| Income|Kidhome|Teenhome|Recency|MntWines|MntFruits|MntMeatProducts|MntFishProducts|MntSweetProducts|MntGoldProds|NumDealsPurchases|NumWebPurchases|NumCatalogPurchases|NumStorePurchases|NumWebVisitsMonth|AcceptedCmp3|AcceptedCmp4|AcceptedCmp5|AcceptedCmp1|AcceptedCmp2|Complain|Z_CostContact|Z_Revenue|Response|DaysSinceJoined|Age|prediction|\n",
      "+----------+--------------+-------+-------+--------+-------+--------+---------+---------------+---------------+----------------+------------+-----------------+---------------+-------------------+-----------------+-----------------+------------+------------+------------+------------+------------+--------+-------------+---------+--------+---------------+---+----------+\n",
      "|Graduation|        Single|58138.0|      0|       0|     58|     635|       88|            546|            172|              88|          88|                3|              8|                 10|                4|                7|           0|           0|           0|           0|           0|       0|            3|       11|       1|            849| 58|         6|\n",
      "|Graduation|        Single|46344.0|      1|       1|     38|      11|        1|              6|              2|               1|           6|                2|              1|                  1|                2|                5|           0|           0|           0|           0|           0|       0|            3|       11|       0|            299| 61|         0|\n",
      "|Graduation|      Together|71613.0|      0|       0|     26|     426|       49|            127|            111|              21|          42|                1|              8|                  2|               10|                4|           0|           0|           0|           0|           0|       0|            3|       11|       0|            498| 50|         6|\n",
      "|Graduation|      Together|26646.0|      1|       0|     26|      11|        4|             20|             10|               3|           5|                2|              2|                  0|                4|                6|           0|           0|           0|           0|           0|       0|            3|       11|       0|            325| 31|         4|\n",
      "|       PhD|       Married|58293.0|      1|       0|     94|     173|       43|            118|             46|              27|          15|                5|              5|                  3|                6|                5|           0|           0|           0|           0|           0|       0|            3|       11|       0|            347| 34|         6|\n",
      "|    Master|      Together|62513.0|      0|       1|     16|     520|       42|             98|              0|              42|          14|                2|              6|                  4|               10|                6|           0|           0|           0|           0|           0|       0|            3|       11|       0|            479| 48|         6|\n",
      "|Graduation|      Divorced|55635.0|      0|       1|     34|     235|       65|            164|             50|              49|          27|                4|              7|                  3|                7|                6|           0|           0|           0|           0|           0|       0|            3|       11|       0|            779| 44|         0|\n",
      "|       PhD|       Married|33454.0|      1|       0|     32|      76|       10|             56|              3|               1|          23|                2|              4|                  0|                4|                8|           0|           0|           0|           0|           0|       0|            3|       11|       0|            603| 30|         1|\n",
      "|       PhD|      Together|30351.0|      1|       0|     19|      14|        0|             24|              3|               3|           2|                1|              3|                  0|                2|                9|           0|           0|           0|           0|           0|       0|            3|       11|       1|            574| 41|         1|\n",
      "|       PhD|      Together| 5648.0|      1|       1|     68|      28|        0|              6|              1|               1|          13|                1|              1|                  0|                0|               20|           1|           0|           0|           0|           0|       0|            3|       11|       0|            294| 65|         4|\n",
      "|     Basic|       Married| 7500.0|      0|       0|     59|       6|       16|             11|             11|               1|          16|                1|              2|                  0|                3|                8|           0|           0|           0|           0|           0|       0|            3|       11|       0|            779| 39|         4|\n",
      "|Graduation|      Divorced|63033.0|      0|       0|     82|     194|       61|            480|            225|             112|          30|                1|              3|                  4|                8|                2|           0|           0|           0|           0|           0|       0|            3|       11|       0|            412| 56|         6|\n",
      "|    Master|      Divorced|59354.0|      1|       1|     53|     233|        2|             53|              3|               5|          14|                3|              6|                  1|                5|                6|           0|           0|           0|           0|           0|       0|            3|       11|       0|            412| 63|         6|\n",
      "|Graduation|       Married|17323.0|      0|       0|     38|       3|       14|             17|              6|               1|           5|                1|              1|                  0|                3|                8|           0|           0|           0|           0|           0|       0|            3|       11|       0|            813| 28|         4|\n",
      "|       PhD|        Single|82800.0|      0|       0|     23|    1006|       22|            115|             59|              68|          45|                1|              7|                  6|               12|                3|           0|           0|           1|           1|           0|       0|            3|       11|       1|            768| 69|         3|\n",
      "|Graduation|       Married|41850.0|      1|       1|     51|      53|        5|             19|              2|              13|           4|                3|              3|                  0|                3|                8|           0|           0|           0|           0|           0|       0|            3|       11|       0|            738| 35|         1|\n",
      "|Graduation|      Together|37760.0|      0|       0|     20|      84|        5|             38|            150|              12|          28|                2|              4|                  1|                6|                7|           0|           0|           0|           0|           0|       0|            3|       11|       0|            853| 69|         1|\n",
      "|    Master|       Married|76995.0|      0|       1|     91|    1012|       80|            498|              0|              16|         176|                2|             11|                  4|                9|                5|           0|           0|           0|           1|           0|       0|            3|       11|       0|            644| 66|         3|\n",
      "|  2n Cycle|        Single|33812.0|      1|       0|     86|       4|       17|             19|             30|              24|          39|                2|              2|                  1|                3|                6|           0|           0|           0|           0|           0|       0|            3|       11|       0|            789| 30|         1|\n",
      "|Graduation|       Married|37040.0|      0|       0|     41|      86|        2|             73|             69|              38|          48|                1|              4|                  2|                5|                8|           0|           0|           0|           0|           0|       0|            3|       11|       0|            876| 33|         1|\n",
      "+----------+--------------+-------+-------+--------+-------+--------+---------+---------------+---------------+----------------+------------+-----------------+---------------+-------------------+-----------------+-----------------+------------+------------+------------+------------+------------+--------+-------------+---------+--------+---------------+---+----------+\n",
      "only showing top 20 rows\n",
      "\n"
     ]
    }
   ],
   "source": [
    "temp.show()"
   ]
  },
  {
   "cell_type": "code",
   "execution_count": 115,
   "id": "5195882f",
   "metadata": {},
   "outputs": [],
   "source": [
    "# Save the DataFrame as a CSV file\n",
    "# temp.write.options(header=True).csv(\"predsKNN\")"
   ]
  },
  {
   "cell_type": "code",
   "execution_count": 114,
   "id": "9f792f4c",
   "metadata": {},
   "outputs": [],
   "source": [
    "temp.toPandas().to_csv(\"predsKNN.csv\")"
   ]
  },
  {
   "cell_type": "markdown",
   "id": "bf686c80",
   "metadata": {},
   "source": [
    "### Performing Classification \n",
    "\n",
    "Based on the number of deals purchased by the customer and whether the customer accepted the offer of the first 5 campaigns, they accept the final campaign offer or not. "
   ]
  },
  {
   "cell_type": "code",
   "execution_count": 159,
   "id": "9a22dd2c",
   "metadata": {},
   "outputs": [],
   "source": [
    "campaign_df = df_1.drop(\"Education\", 'Marital_Status')"
   ]
  },
  {
   "cell_type": "code",
   "execution_count": 165,
   "id": "55940df0",
   "metadata": {},
   "outputs": [
    {
     "data": {
      "text/plain": [
       "['Income',\n",
       " 'Kidhome',\n",
       " 'Teenhome',\n",
       " 'Recency',\n",
       " 'MntWines',\n",
       " 'MntFruits',\n",
       " 'MntMeatProducts',\n",
       " 'MntFishProducts',\n",
       " 'MntSweetProducts',\n",
       " 'MntGoldProds',\n",
       " 'NumDealsPurchases',\n",
       " 'NumWebPurchases',\n",
       " 'NumCatalogPurchases',\n",
       " 'NumStorePurchases',\n",
       " 'NumWebVisitsMonth',\n",
       " 'AcceptedCmp3',\n",
       " 'AcceptedCmp4',\n",
       " 'AcceptedCmp5',\n",
       " 'AcceptedCmp1',\n",
       " 'AcceptedCmp2',\n",
       " 'Complain',\n",
       " 'Z_CostContact',\n",
       " 'Z_Revenue',\n",
       " 'Response',\n",
       " 'DaysSinceJoined',\n",
       " 'Age',\n",
       " 'EducationIndex',\n",
       " 'Marital_StatusIndex']"
      ]
     },
     "execution_count": 165,
     "metadata": {},
     "output_type": "execute_result"
    }
   ],
   "source": [
    "campaign_df.columns"
   ]
  },
  {
   "cell_type": "code",
   "execution_count": 161,
   "id": "04a45370",
   "metadata": {},
   "outputs": [
    {
     "name": "stdout",
     "output_type": "stream",
     "text": [
      "+-------+-------+--------+-------+--------+---------+---------------+---------------+----------------+------------+-----------------+---------------+-------------------+-----------------+-----------------+------------+------------+------------+------------+------------+--------+-------------+---------+--------+---------------+---+--------------+-------------------+\n",
      "| Income|Kidhome|Teenhome|Recency|MntWines|MntFruits|MntMeatProducts|MntFishProducts|MntSweetProducts|MntGoldProds|NumDealsPurchases|NumWebPurchases|NumCatalogPurchases|NumStorePurchases|NumWebVisitsMonth|AcceptedCmp3|AcceptedCmp4|AcceptedCmp5|AcceptedCmp1|AcceptedCmp2|Complain|Z_CostContact|Z_Revenue|Response|DaysSinceJoined|Age|EducationIndex|Marital_StatusIndex|\n",
      "+-------+-------+--------+-------+--------+---------+---------------+---------------+----------------+------------+-----------------+---------------+-------------------+-----------------+-----------------+------------+------------+------------+------------+------------+--------+-------------+---------+--------+---------------+---+--------------+-------------------+\n",
      "|58138.0|      0|       0|     58|     635|       88|            546|            172|              88|          88|                3|              8|                 10|                4|                7|           0|           0|           0|           0|           0|       0|            3|       11|       1|            849| 58|           0.0|                2.0|\n",
      "+-------+-------+--------+-------+--------+---------+---------------+---------------+----------------+------------+-----------------+---------------+-------------------+-----------------+-----------------+------------+------------+------------+------------+------------+--------+-------------+---------+--------+---------------+---+--------------+-------------------+\n",
      "only showing top 1 row\n",
      "\n"
     ]
    }
   ],
   "source": [
    "campaign_df.show(1)"
   ]
  },
  {
   "cell_type": "code",
   "execution_count": 166,
   "id": "967c91db",
   "metadata": {},
   "outputs": [],
   "source": [
    "campaign_assembler = VectorAssembler(inputCols = ['Income','Kidhome', 'Teenhome', 'Recency', 'MntWines',\n",
    " 'MntFruits','MntMeatProducts','MntFishProducts','MntSweetProducts','MntGoldProds','NumDealsPurchases',\n",
    " 'NumWebPurchases','NumCatalogPurchases','NumStorePurchases','NumWebVisitsMonth','AcceptedCmp3','AcceptedCmp4',\n",
    " 'AcceptedCmp5','AcceptedCmp1','AcceptedCmp2','Complain','Z_CostContact','Z_Revenue','DaysSinceJoined','Age',\n",
    " 'EducationIndex','Marital_StatusIndex'], outputCol = \"Features\")\n",
    "\n",
    "campaign_asm_df = campaign_assembler.transform(campaign_df)"
   ]
  },
  {
   "cell_type": "code",
   "execution_count": 168,
   "id": "1219b8ff",
   "metadata": {},
   "outputs": [
    {
     "name": "stdout",
     "output_type": "stream",
     "text": [
      "+-------+-------+--------+-------+--------+---------+---------------+---------------+----------------+------------+-----------------+---------------+-------------------+-----------------+-----------------+------------+------------+------------+------------+------------+--------+-------------+---------+--------+---------------+---+--------------+-------------------+--------------------+\n",
      "| Income|Kidhome|Teenhome|Recency|MntWines|MntFruits|MntMeatProducts|MntFishProducts|MntSweetProducts|MntGoldProds|NumDealsPurchases|NumWebPurchases|NumCatalogPurchases|NumStorePurchases|NumWebVisitsMonth|AcceptedCmp3|AcceptedCmp4|AcceptedCmp5|AcceptedCmp1|AcceptedCmp2|Complain|Z_CostContact|Z_Revenue|Response|DaysSinceJoined|Age|EducationIndex|Marital_StatusIndex|            Features|\n",
      "+-------+-------+--------+-------+--------+---------+---------------+---------------+----------------+------------+-----------------+---------------+-------------------+-----------------+-----------------+------------+------------+------------+------------+------------+--------+-------------+---------+--------+---------------+---+--------------+-------------------+--------------------+\n",
      "|58138.0|      0|       0|     58|     635|       88|            546|            172|              88|          88|                3|              8|                 10|                4|                7|           0|           0|           0|           0|           0|       0|            3|       11|       1|            849| 58|           0.0|                2.0|[58138.0,0.0,0.0,...|\n",
      "|46344.0|      1|       1|     38|      11|        1|              6|              2|               1|           6|                2|              1|                  1|                2|                5|           0|           0|           0|           0|           0|       0|            3|       11|       0|            299| 61|           0.0|                2.0|[46344.0,1.0,1.0,...|\n",
      "+-------+-------+--------+-------+--------+---------+---------------+---------------+----------------+------------+-----------------+---------------+-------------------+-----------------+-----------------+------------+------------+------------+------------+------------+--------+-------------+---------+--------+---------------+---+--------------+-------------------+--------------------+\n",
      "only showing top 2 rows\n",
      "\n"
     ]
    }
   ],
   "source": [
    "campaign_asm_df.show(2)"
   ]
  },
  {
   "cell_type": "markdown",
   "id": "3e54fba1",
   "metadata": {},
   "source": [
    "Creating a new dataframe with just the features and the target variable."
   ]
  },
  {
   "cell_type": "code",
   "execution_count": 169,
   "id": "a7319bc5",
   "metadata": {},
   "outputs": [],
   "source": [
    "model_reg_df = campaign_asm_df.select(\"Features\", \"Response\")"
   ]
  },
  {
   "cell_type": "code",
   "execution_count": 171,
   "id": "efbd75f2",
   "metadata": {},
   "outputs": [
    {
     "name": "stdout",
     "output_type": "stream",
     "text": [
      "+--------------------------------------------------------------------------------------------------------------------------------+--------+\n",
      "|Features                                                                                                                        |Response|\n",
      "+--------------------------------------------------------------------------------------------------------------------------------+--------+\n",
      "|[58138.0,0.0,0.0,58.0,635.0,88.0,546.0,172.0,88.0,88.0,3.0,8.0,10.0,4.0,7.0,0.0,0.0,0.0,0.0,0.0,0.0,3.0,11.0,849.0,58.0,0.0,2.0]|1       |\n",
      "|[46344.0,1.0,1.0,38.0,11.0,1.0,6.0,2.0,1.0,6.0,2.0,1.0,1.0,2.0,5.0,0.0,0.0,0.0,0.0,0.0,0.0,3.0,11.0,299.0,61.0,0.0,2.0]         |0       |\n",
      "|[71613.0,0.0,0.0,26.0,426.0,49.0,127.0,111.0,21.0,42.0,1.0,8.0,2.0,10.0,4.0,0.0,0.0,0.0,0.0,0.0,0.0,3.0,11.0,498.0,50.0,0.0,1.0]|0       |\n",
      "|[26646.0,1.0,0.0,26.0,11.0,4.0,20.0,10.0,3.0,5.0,2.0,2.0,0.0,4.0,6.0,0.0,0.0,0.0,0.0,0.0,0.0,3.0,11.0,325.0,31.0,0.0,1.0]       |0       |\n",
      "|[58293.0,1.0,0.0,94.0,173.0,43.0,118.0,46.0,27.0,15.0,5.0,5.0,3.0,6.0,5.0,0.0,0.0,0.0,0.0,0.0,0.0,3.0,11.0,347.0,34.0,1.0,0.0]  |0       |\n",
      "+--------------------------------------------------------------------------------------------------------------------------------+--------+\n",
      "only showing top 5 rows\n",
      "\n"
     ]
    }
   ],
   "source": [
    "model_reg_df.show(5, truncate = False)"
   ]
  },
  {
   "cell_type": "markdown",
   "id": "f71bd1da",
   "metadata": {},
   "source": [
    "Creating the train, test split"
   ]
  },
  {
   "cell_type": "code",
   "execution_count": 172,
   "id": "1d3d4839",
   "metadata": {},
   "outputs": [],
   "source": [
    "training_df, test_df = model_reg_df.randomSplit([0.7, 0.3])"
   ]
  },
  {
   "cell_type": "code",
   "execution_count": 173,
   "id": "3b5876fb",
   "metadata": {},
   "outputs": [
    {
     "data": {
      "text/plain": [
       "(1578, 635)"
      ]
     },
     "execution_count": 173,
     "metadata": {},
     "output_type": "execute_result"
    }
   ],
   "source": [
    "training_df.count(), test_df.count()"
   ]
  },
  {
   "cell_type": "code",
   "execution_count": 174,
   "id": "8de30c20",
   "metadata": {},
   "outputs": [],
   "source": [
    "from pyspark.ml.classification import RandomForestClassifier\n",
    "\n",
    "rf_classifier = RandomForestClassifier(labelCol = 'Response', featuresCol=\"Features\", numTrees=100).fit(training_df)"
   ]
  },
  {
   "cell_type": "code",
   "execution_count": 175,
   "id": "cf8a0565",
   "metadata": {},
   "outputs": [],
   "source": [
    "rf_predictions = rf_classifier.transform(test_df)"
   ]
  },
  {
   "cell_type": "code",
   "execution_count": 181,
   "id": "6594e8fa",
   "metadata": {},
   "outputs": [
    {
     "name": "stdout",
     "output_type": "stream",
     "text": [
      "+--------------------+--------+--------------------+--------------------+----------+\n",
      "|            Features|Response|       rawPrediction|         probability|prediction|\n",
      "+--------------------+--------+--------------------+--------------------+----------+\n",
      "|(27,[0,1,2,3,4,6,...|       0|[90.6731489514981...|[0.90673148951498...|       0.0|\n",
      "|(27,[0,1,2,3,4,6,...|       0|[94.8316357501522...|[0.94831635750152...|       0.0|\n",
      "|(27,[0,1,2,3,4,6,...|       0|[94.8316357501522...|[0.94831635750152...|       0.0|\n",
      "|(27,[0,1,2,3,4,6,...|       0|[91.0509901182429...|[0.91050990118242...|       0.0|\n",
      "|(27,[0,1,2,3,4,6,...|       0|[95.0991784911895...|[0.95099178491189...|       0.0|\n",
      "|(27,[0,1,2,3,4,6,...|       0|[91.7508710184763...|[0.91750871018476...|       0.0|\n",
      "|(27,[0,1,2,3,4,6,...|       0|[94.9134726949333...|[0.94913472694933...|       0.0|\n",
      "|(27,[0,1,2,3,4,6,...|       0|[94.8947333959632...|[0.94894733395963...|       0.0|\n",
      "|(27,[0,1,2,3,4,6,...|       0|[92.6041534081171...|[0.92604153408117...|       0.0|\n",
      "|(27,[0,1,2,3,4,6,...|       0|[95.0947572884322...|[0.95094757288432...|       0.0|\n",
      "|(27,[0,1,2,3,4,6,...|       0|[94.9061292753753...|[0.94906129275375...|       0.0|\n",
      "|(27,[0,1,2,3,4,6,...|       0|[93.4310245377321...|[0.93431024537732...|       0.0|\n",
      "|(27,[0,1,2,4,6,9,...|       0|[89.4255005457986...|[0.89425500545798...|       0.0|\n",
      "|(27,[0,1,3,4,5,6,...|       0|[78.6222382401098...|[0.78622238240109...|       0.0|\n",
      "|(27,[0,1,3,4,5,6,...|       0|[93.8130429304421...|[0.93813042930442...|       0.0|\n",
      "|(27,[0,1,3,4,5,6,...|       0|[94.5326220284007...|[0.94532622028400...|       0.0|\n",
      "|(27,[0,1,3,4,5,6,...|       0|[94.3254406375907...|[0.94325440637590...|       0.0|\n",
      "|(27,[0,1,3,4,5,6,...|       0|[94.3131997695655...|[0.94313199769565...|       0.0|\n",
      "|(27,[0,1,3,4,5,6,...|       0|[91.5385839174052...|[0.91538583917405...|       0.0|\n",
      "|(27,[0,1,3,4,5,6,...|       0|[94.3599075896505...|[0.94359907589650...|       0.0|\n",
      "+--------------------+--------+--------------------+--------------------+----------+\n",
      "only showing top 20 rows\n",
      "\n"
     ]
    }
   ],
   "source": [
    "rf_predictions.show()"
   ]
  },
  {
   "cell_type": "markdown",
   "id": "d18a6f4e",
   "metadata": {},
   "source": [
    "### Determining the accuracy of the Predictions "
   ]
  },
  {
   "cell_type": "code",
   "execution_count": 178,
   "id": "f9204f86",
   "metadata": {},
   "outputs": [],
   "source": [
    "from pyspark.ml.evaluation import BinaryClassificationEvaluator"
   ]
  },
  {
   "cell_type": "code",
   "execution_count": 179,
   "id": "17dd1a20",
   "metadata": {},
   "outputs": [],
   "source": [
    "rf_auc = BinaryClassificationEvaluator(labelCol = \"Response\").evaluate(rf_predictions)"
   ]
  },
  {
   "cell_type": "code",
   "execution_count": 180,
   "id": "13e84589",
   "metadata": {},
   "outputs": [
    {
     "data": {
      "text/plain": [
       "0.8545046536438236"
      ]
     },
     "execution_count": 180,
     "metadata": {},
     "output_type": "execute_result"
    }
   ],
   "source": [
    "rf_auc"
   ]
  },
  {
   "cell_type": "markdown",
   "id": "e1ddbe78",
   "metadata": {},
   "source": [
    "AUC score of 0.85 is a good score."
   ]
  },
  {
   "cell_type": "code",
   "execution_count": 184,
   "id": "ff8e232e",
   "metadata": {},
   "outputs": [
    {
     "name": "stdout",
     "output_type": "stream",
     "text": [
      "0 : Income\n",
      "1 : Kidhome\n",
      "2 : Teenhome\n",
      "3 : Recency\n",
      "4 : MntWines\n",
      "5 : MntFruits\n",
      "6 : MntMeatProducts\n",
      "7 : MntFishProducts\n",
      "8 : MntSweetProducts\n",
      "9 : MntGoldProds\n",
      "10 : NumDealsPurchases\n",
      "11 : NumWebPurchases\n",
      "12 : NumCatalogPurchases\n",
      "13 : NumStorePurchases\n",
      "14 : NumWebVisitsMonth\n",
      "15 : AcceptedCmp3\n",
      "16 : AcceptedCmp4\n",
      "17 : AcceptedCmp5\n",
      "18 : AcceptedCmp1\n",
      "19 : AcceptedCmp2\n",
      "20 : Complain\n",
      "21 : Z_CostContact\n",
      "22 : Z_Revenue\n",
      "23 : DaysSinceJoined\n",
      "24 : Age\n",
      "25 : EducationIndex\n",
      "26 : Marital_StatusIndex\n"
     ]
    }
   ],
   "source": [
    "cols = ['Income',\n",
    " 'Kidhome',\n",
    " 'Teenhome',\n",
    " 'Recency',\n",
    " 'MntWines',\n",
    " 'MntFruits',\n",
    " 'MntMeatProducts',\n",
    " 'MntFishProducts',\n",
    " 'MntSweetProducts',\n",
    " 'MntGoldProds',\n",
    " 'NumDealsPurchases',\n",
    " 'NumWebPurchases',\n",
    " 'NumCatalogPurchases',\n",
    " 'NumStorePurchases',\n",
    " 'NumWebVisitsMonth',\n",
    " 'AcceptedCmp3',\n",
    " 'AcceptedCmp4',\n",
    " 'AcceptedCmp5',\n",
    " 'AcceptedCmp1',\n",
    " 'AcceptedCmp2',\n",
    " 'Complain',\n",
    " 'Z_CostContact',\n",
    " 'Z_Revenue',\n",
    " 'DaysSinceJoined',\n",
    " 'Age',\n",
    " 'EducationIndex',\n",
    " 'Marital_StatusIndex']\n",
    "for i, col in enumerate(cols):\n",
    "    print(f\"{i} : {col}\")"
   ]
  },
  {
   "cell_type": "code",
   "execution_count": 182,
   "id": "59c8e2cc",
   "metadata": {},
   "outputs": [
    {
     "data": {
      "text/plain": [
       "SparseVector(27, {0: 0.0612, 1: 0.0019, 2: 0.0114, 3: 0.0837, 4: 0.0657, 5: 0.0141, 6: 0.0424, 7: 0.021, 8: 0.0189, 9: 0.0295, 10: 0.0135, 11: 0.0253, 12: 0.037, 13: 0.0242, 14: 0.0338, 15: 0.0953, 16: 0.0091, 17: 0.1524, 18: 0.1031, 19: 0.0052, 20: 0.0009, 23: 0.0682, 24: 0.035, 25: 0.0149, 26: 0.0324})"
      ]
     },
     "execution_count": 182,
     "metadata": {},
     "output_type": "execute_result"
    }
   ],
   "source": [
    "rf_classifier.featureImportances"
   ]
  },
  {
   "cell_type": "markdown",
   "id": "ce4e15b0",
   "metadata": {},
   "source": [
    "- It can be seen that the feature 17 and 18 (AcceptedCmp5 and AcceptedCmp1) are the most important features. 15% and 10% importance. \n",
    "\n",
    "- Followed by featuer 15 (AcceptedCmp3) with 9.5% importance. "
   ]
  },
  {
   "cell_type": "code",
   "execution_count": null,
   "id": "66da9dc7",
   "metadata": {},
   "outputs": [],
   "source": []
  }
 ],
 "metadata": {
  "kernelspec": {
   "display_name": "Python 3 (ipykernel)",
   "language": "python",
   "name": "python3"
  },
  "language_info": {
   "codemirror_mode": {
    "name": "ipython",
    "version": 3
   },
   "file_extension": ".py",
   "mimetype": "text/x-python",
   "name": "python",
   "nbconvert_exporter": "python",
   "pygments_lexer": "ipython3",
   "version": "3.9.16"
  }
 },
 "nbformat": 4,
 "nbformat_minor": 5
}
